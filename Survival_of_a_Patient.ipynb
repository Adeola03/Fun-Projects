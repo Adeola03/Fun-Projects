{
 "cells": [
  {
   "cell_type": "markdown",
   "metadata": {},
   "source": [
    "## Importing packages"
   ]
  },
  {
   "cell_type": "code",
   "execution_count": 1,
   "metadata": {},
   "outputs": [],
   "source": [
    "import pandas as pd\n",
    "import numpy as np\n"
   ]
  },
  {
   "cell_type": "markdown",
   "metadata": {},
   "source": [
    "## Reading the data"
   ]
  },
  {
   "cell_type": "code",
   "execution_count": 2,
   "metadata": {},
   "outputs": [],
   "source": [
    "pharma_data = pd.read_csv('https://raw.githubusercontent.com/dphi-official/Datasets/master/pharma_data/Training_set_begs.csv')"
   ]
  },
  {
   "cell_type": "code",
   "execution_count": 9,
   "metadata": {},
   "outputs": [
    {
     "data": {
      "text/html": [
       "<div>\n",
       "<style scoped>\n",
       "    .dataframe tbody tr th:only-of-type {\n",
       "        vertical-align: middle;\n",
       "    }\n",
       "\n",
       "    .dataframe tbody tr th {\n",
       "        vertical-align: top;\n",
       "    }\n",
       "\n",
       "    .dataframe thead th {\n",
       "        text-align: right;\n",
       "    }\n",
       "</style>\n",
       "<table border=\"1\" class=\"dataframe\">\n",
       "  <thead>\n",
       "    <tr style=\"text-align: right;\">\n",
       "      <th></th>\n",
       "      <th>ID_Patient_Care_Situation</th>\n",
       "      <th>Diagnosed_Condition</th>\n",
       "      <th>Patient_ID</th>\n",
       "      <th>Treated_with_drugs</th>\n",
       "      <th>Patient_Age</th>\n",
       "      <th>Patient_Body_Mass_Index</th>\n",
       "      <th>Patient_Smoker</th>\n",
       "      <th>Patient_Rural_Urban</th>\n",
       "      <th>Patient_mental_condition</th>\n",
       "      <th>A</th>\n",
       "      <th>B</th>\n",
       "      <th>C</th>\n",
       "      <th>D</th>\n",
       "      <th>E</th>\n",
       "      <th>F</th>\n",
       "      <th>Z</th>\n",
       "      <th>Number_of_prev_cond</th>\n",
       "      <th>Survived_1_year</th>\n",
       "    </tr>\n",
       "  </thead>\n",
       "  <tbody>\n",
       "    <tr>\n",
       "      <th>0</th>\n",
       "      <td>22374</td>\n",
       "      <td>8</td>\n",
       "      <td>3333</td>\n",
       "      <td>DX6</td>\n",
       "      <td>56</td>\n",
       "      <td>18.479385</td>\n",
       "      <td>YES</td>\n",
       "      <td>URBAN</td>\n",
       "      <td>Stable</td>\n",
       "      <td>1.0</td>\n",
       "      <td>0.0</td>\n",
       "      <td>0.0</td>\n",
       "      <td>0.0</td>\n",
       "      <td>1.0</td>\n",
       "      <td>0.0</td>\n",
       "      <td>0.0</td>\n",
       "      <td>2.0</td>\n",
       "      <td>0</td>\n",
       "    </tr>\n",
       "    <tr>\n",
       "      <th>1</th>\n",
       "      <td>18164</td>\n",
       "      <td>5</td>\n",
       "      <td>5740</td>\n",
       "      <td>DX2</td>\n",
       "      <td>36</td>\n",
       "      <td>22.945566</td>\n",
       "      <td>YES</td>\n",
       "      <td>RURAL</td>\n",
       "      <td>Stable</td>\n",
       "      <td>1.0</td>\n",
       "      <td>0.0</td>\n",
       "      <td>0.0</td>\n",
       "      <td>0.0</td>\n",
       "      <td>0.0</td>\n",
       "      <td>0.0</td>\n",
       "      <td>0.0</td>\n",
       "      <td>1.0</td>\n",
       "      <td>1</td>\n",
       "    </tr>\n",
       "    <tr>\n",
       "      <th>2</th>\n",
       "      <td>6283</td>\n",
       "      <td>23</td>\n",
       "      <td>10446</td>\n",
       "      <td>DX6</td>\n",
       "      <td>48</td>\n",
       "      <td>27.510027</td>\n",
       "      <td>YES</td>\n",
       "      <td>RURAL</td>\n",
       "      <td>Stable</td>\n",
       "      <td>1.0</td>\n",
       "      <td>0.0</td>\n",
       "      <td>0.0</td>\n",
       "      <td>0.0</td>\n",
       "      <td>0.0</td>\n",
       "      <td>0.0</td>\n",
       "      <td>0.0</td>\n",
       "      <td>1.0</td>\n",
       "      <td>0</td>\n",
       "    </tr>\n",
       "    <tr>\n",
       "      <th>3</th>\n",
       "      <td>5339</td>\n",
       "      <td>51</td>\n",
       "      <td>12011</td>\n",
       "      <td>DX1</td>\n",
       "      <td>5</td>\n",
       "      <td>19.130976</td>\n",
       "      <td>NO</td>\n",
       "      <td>URBAN</td>\n",
       "      <td>Stable</td>\n",
       "      <td>1.0</td>\n",
       "      <td>0.0</td>\n",
       "      <td>0.0</td>\n",
       "      <td>0.0</td>\n",
       "      <td>0.0</td>\n",
       "      <td>0.0</td>\n",
       "      <td>0.0</td>\n",
       "      <td>1.0</td>\n",
       "      <td>1</td>\n",
       "    </tr>\n",
       "    <tr>\n",
       "      <th>4</th>\n",
       "      <td>33012</td>\n",
       "      <td>0</td>\n",
       "      <td>12513</td>\n",
       "      <td>NaN</td>\n",
       "      <td>128</td>\n",
       "      <td>1.348400</td>\n",
       "      <td>Cannot say</td>\n",
       "      <td>RURAL</td>\n",
       "      <td>Stable</td>\n",
       "      <td>0.0</td>\n",
       "      <td>0.0</td>\n",
       "      <td>0.0</td>\n",
       "      <td>0.0</td>\n",
       "      <td>0.0</td>\n",
       "      <td>0.0</td>\n",
       "      <td>1.0</td>\n",
       "      <td>1.0</td>\n",
       "      <td>1</td>\n",
       "    </tr>\n",
       "  </tbody>\n",
       "</table>\n",
       "</div>"
      ],
      "text/plain": [
       "   ID_Patient_Care_Situation  Diagnosed_Condition  Patient_ID  \\\n",
       "0                      22374                    8        3333   \n",
       "1                      18164                    5        5740   \n",
       "2                       6283                   23       10446   \n",
       "3                       5339                   51       12011   \n",
       "4                      33012                    0       12513   \n",
       "\n",
       "  Treated_with_drugs  Patient_Age  Patient_Body_Mass_Index Patient_Smoker  \\\n",
       "0                DX6           56                18.479385            YES   \n",
       "1               DX2            36                22.945566            YES   \n",
       "2                DX6           48                27.510027            YES   \n",
       "3               DX1             5                19.130976             NO   \n",
       "4                NaN          128                 1.348400     Cannot say   \n",
       "\n",
       "  Patient_Rural_Urban Patient_mental_condition    A    B    C    D    E    F  \\\n",
       "0               URBAN                   Stable  1.0  0.0  0.0  0.0  1.0  0.0   \n",
       "1               RURAL                   Stable  1.0  0.0  0.0  0.0  0.0  0.0   \n",
       "2               RURAL                   Stable  1.0  0.0  0.0  0.0  0.0  0.0   \n",
       "3               URBAN                   Stable  1.0  0.0  0.0  0.0  0.0  0.0   \n",
       "4               RURAL                   Stable  0.0  0.0  0.0  0.0  0.0  0.0   \n",
       "\n",
       "     Z  Number_of_prev_cond  Survived_1_year  \n",
       "0  0.0                  2.0                0  \n",
       "1  0.0                  1.0                1  \n",
       "2  0.0                  1.0                0  \n",
       "3  0.0                  1.0                1  \n",
       "4  1.0                  1.0                1  "
      ]
     },
     "execution_count": 9,
     "metadata": {},
     "output_type": "execute_result"
    }
   ],
   "source": [
    "\n",
    "pharma_data.head()"
   ]
  },
  {
   "cell_type": "markdown",
   "metadata": {},
   "source": [
    "### Filling NAs  with median for numerical variables and mode for categorical variables"
   ]
  },
  {
   "cell_type": "code",
   "execution_count": 6,
   "metadata": {},
   "outputs": [],
   "source": [
    "for column in ['A', 'B', 'C', 'D', 'E','F','Z','Number_of_prev_cond']:\n",
    "    pharma_data[column].fillna(pharma_data[column].median(), inplace=True)"
   ]
  },
  {
   "cell_type": "code",
   "execution_count": 7,
   "metadata": {},
   "outputs": [],
   "source": [
    "pharma_data['Treated_with_drugs'].fillna(pharma_data['Treated_with_drugs'].mode()[0], inplace=True)"
   ]
  },
  {
   "cell_type": "markdown",
   "metadata": {},
   "source": [
    "### Hot encoding categorical variables"
   ]
  },
  {
   "cell_type": "code",
   "execution_count": 8,
   "metadata": {},
   "outputs": [],
   "source": [
    "for column in ['Treated_with_drugs', 'Patient_Smoker', 'Patient_Rural_Urban', 'Patient_mental_condition']:\n",
    "     pharma_data = pd.get_dummies(pharma_data, columns=[column])"
   ]
  },
  {
   "cell_type": "code",
   "execution_count": 22,
   "metadata": {},
   "outputs": [
    {
     "data": {
      "text/html": [
       "<div>\n",
       "<style scoped>\n",
       "    .dataframe tbody tr th:only-of-type {\n",
       "        vertical-align: middle;\n",
       "    }\n",
       "\n",
       "    .dataframe tbody tr th {\n",
       "        vertical-align: top;\n",
       "    }\n",
       "\n",
       "    .dataframe thead th {\n",
       "        text-align: right;\n",
       "    }\n",
       "</style>\n",
       "<table border=\"1\" class=\"dataframe\">\n",
       "  <thead>\n",
       "    <tr style=\"text-align: right;\">\n",
       "      <th></th>\n",
       "      <th>ID_Patient_Care_Situation</th>\n",
       "      <th>Diagnosed_Condition</th>\n",
       "      <th>Patient_ID</th>\n",
       "      <th>Patient_Age</th>\n",
       "      <th>Patient_Body_Mass_Index</th>\n",
       "      <th>A</th>\n",
       "      <th>B</th>\n",
       "      <th>C</th>\n",
       "      <th>D</th>\n",
       "      <th>E</th>\n",
       "      <th>...</th>\n",
       "      <th>Treated_with_drugs_DX4</th>\n",
       "      <th>Treated_with_drugs_DX4 DX5</th>\n",
       "      <th>Treated_with_drugs_DX5</th>\n",
       "      <th>Treated_with_drugs_DX6</th>\n",
       "      <th>Patient_Smoker_Cannot say</th>\n",
       "      <th>Patient_Smoker_NO</th>\n",
       "      <th>Patient_Smoker_YES</th>\n",
       "      <th>Patient_Rural_Urban_RURAL</th>\n",
       "      <th>Patient_Rural_Urban_URBAN</th>\n",
       "      <th>Patient_mental_condition_Stable</th>\n",
       "    </tr>\n",
       "  </thead>\n",
       "  <tbody>\n",
       "    <tr>\n",
       "      <th>0</th>\n",
       "      <td>22374</td>\n",
       "      <td>8</td>\n",
       "      <td>3333</td>\n",
       "      <td>56</td>\n",
       "      <td>18.479385</td>\n",
       "      <td>1.0</td>\n",
       "      <td>0.0</td>\n",
       "      <td>0.0</td>\n",
       "      <td>0.0</td>\n",
       "      <td>1.0</td>\n",
       "      <td>...</td>\n",
       "      <td>0</td>\n",
       "      <td>0</td>\n",
       "      <td>0</td>\n",
       "      <td>1</td>\n",
       "      <td>0</td>\n",
       "      <td>0</td>\n",
       "      <td>1</td>\n",
       "      <td>0</td>\n",
       "      <td>1</td>\n",
       "      <td>1</td>\n",
       "    </tr>\n",
       "    <tr>\n",
       "      <th>1</th>\n",
       "      <td>18164</td>\n",
       "      <td>5</td>\n",
       "      <td>5740</td>\n",
       "      <td>36</td>\n",
       "      <td>22.945566</td>\n",
       "      <td>1.0</td>\n",
       "      <td>0.0</td>\n",
       "      <td>0.0</td>\n",
       "      <td>0.0</td>\n",
       "      <td>0.0</td>\n",
       "      <td>...</td>\n",
       "      <td>0</td>\n",
       "      <td>0</td>\n",
       "      <td>0</td>\n",
       "      <td>0</td>\n",
       "      <td>0</td>\n",
       "      <td>0</td>\n",
       "      <td>1</td>\n",
       "      <td>1</td>\n",
       "      <td>0</td>\n",
       "      <td>1</td>\n",
       "    </tr>\n",
       "    <tr>\n",
       "      <th>2</th>\n",
       "      <td>6283</td>\n",
       "      <td>23</td>\n",
       "      <td>10446</td>\n",
       "      <td>48</td>\n",
       "      <td>27.510027</td>\n",
       "      <td>1.0</td>\n",
       "      <td>0.0</td>\n",
       "      <td>0.0</td>\n",
       "      <td>0.0</td>\n",
       "      <td>0.0</td>\n",
       "      <td>...</td>\n",
       "      <td>0</td>\n",
       "      <td>0</td>\n",
       "      <td>0</td>\n",
       "      <td>1</td>\n",
       "      <td>0</td>\n",
       "      <td>0</td>\n",
       "      <td>1</td>\n",
       "      <td>1</td>\n",
       "      <td>0</td>\n",
       "      <td>1</td>\n",
       "    </tr>\n",
       "    <tr>\n",
       "      <th>3</th>\n",
       "      <td>5339</td>\n",
       "      <td>51</td>\n",
       "      <td>12011</td>\n",
       "      <td>5</td>\n",
       "      <td>19.130976</td>\n",
       "      <td>1.0</td>\n",
       "      <td>0.0</td>\n",
       "      <td>0.0</td>\n",
       "      <td>0.0</td>\n",
       "      <td>0.0</td>\n",
       "      <td>...</td>\n",
       "      <td>0</td>\n",
       "      <td>0</td>\n",
       "      <td>0</td>\n",
       "      <td>0</td>\n",
       "      <td>0</td>\n",
       "      <td>1</td>\n",
       "      <td>0</td>\n",
       "      <td>0</td>\n",
       "      <td>1</td>\n",
       "      <td>1</td>\n",
       "    </tr>\n",
       "    <tr>\n",
       "      <th>4</th>\n",
       "      <td>33012</td>\n",
       "      <td>0</td>\n",
       "      <td>12513</td>\n",
       "      <td>128</td>\n",
       "      <td>1.348400</td>\n",
       "      <td>0.0</td>\n",
       "      <td>0.0</td>\n",
       "      <td>0.0</td>\n",
       "      <td>0.0</td>\n",
       "      <td>0.0</td>\n",
       "      <td>...</td>\n",
       "      <td>0</td>\n",
       "      <td>0</td>\n",
       "      <td>0</td>\n",
       "      <td>1</td>\n",
       "      <td>1</td>\n",
       "      <td>0</td>\n",
       "      <td>0</td>\n",
       "      <td>1</td>\n",
       "      <td>0</td>\n",
       "      <td>1</td>\n",
       "    </tr>\n",
       "  </tbody>\n",
       "</table>\n",
       "<p>5 rows × 52 columns</p>\n",
       "</div>"
      ],
      "text/plain": [
       "   ID_Patient_Care_Situation  Diagnosed_Condition  Patient_ID  Patient_Age  \\\n",
       "0                      22374                    8        3333           56   \n",
       "1                      18164                    5        5740           36   \n",
       "2                       6283                   23       10446           48   \n",
       "3                       5339                   51       12011            5   \n",
       "4                      33012                    0       12513          128   \n",
       "\n",
       "   Patient_Body_Mass_Index    A    B    C    D    E  ...  \\\n",
       "0                18.479385  1.0  0.0  0.0  0.0  1.0  ...   \n",
       "1                22.945566  1.0  0.0  0.0  0.0  0.0  ...   \n",
       "2                27.510027  1.0  0.0  0.0  0.0  0.0  ...   \n",
       "3                19.130976  1.0  0.0  0.0  0.0  0.0  ...   \n",
       "4                 1.348400  0.0  0.0  0.0  0.0  0.0  ...   \n",
       "\n",
       "   Treated_with_drugs_DX4   Treated_with_drugs_DX4 DX5   \\\n",
       "0                        0                            0   \n",
       "1                        0                            0   \n",
       "2                        0                            0   \n",
       "3                        0                            0   \n",
       "4                        0                            0   \n",
       "\n",
       "   Treated_with_drugs_DX5   Treated_with_drugs_DX6  Patient_Smoker_Cannot say  \\\n",
       "0                        0                       1                          0   \n",
       "1                        0                       0                          0   \n",
       "2                        0                       1                          0   \n",
       "3                        0                       0                          0   \n",
       "4                        0                       1                          1   \n",
       "\n",
       "   Patient_Smoker_NO  Patient_Smoker_YES  Patient_Rural_Urban_RURAL  \\\n",
       "0                  0                   1                          0   \n",
       "1                  0                   1                          1   \n",
       "2                  0                   1                          1   \n",
       "3                  1                   0                          0   \n",
       "4                  0                   0                          1   \n",
       "\n",
       "   Patient_Rural_Urban_URBAN  Patient_mental_condition_Stable  \n",
       "0                          1                                1  \n",
       "1                          0                                1  \n",
       "2                          0                                1  \n",
       "3                          1                                1  \n",
       "4                          0                                1  \n",
       "\n",
       "[5 rows x 52 columns]"
      ]
     },
     "execution_count": 22,
     "metadata": {},
     "output_type": "execute_result"
    }
   ],
   "source": [
    "pharma_data.head()"
   ]
  },
  {
   "cell_type": "code",
   "execution_count": 9,
   "metadata": {},
   "outputs": [
    {
     "name": "stdout",
     "output_type": "stream",
     "text": [
      "<class 'pandas.core.frame.DataFrame'>\n",
      "RangeIndex: 23097 entries, 0 to 23096\n",
      "Data columns (total 52 columns):\n",
      " #   Column                                   Non-Null Count  Dtype  \n",
      "---  ------                                   --------------  -----  \n",
      " 0   ID_Patient_Care_Situation                23097 non-null  int64  \n",
      " 1   Diagnosed_Condition                      23097 non-null  int64  \n",
      " 2   Patient_ID                               23097 non-null  int64  \n",
      " 3   Patient_Age                              23097 non-null  int64  \n",
      " 4   Patient_Body_Mass_Index                  23097 non-null  float64\n",
      " 5   A                                        23097 non-null  float64\n",
      " 6   B                                        23097 non-null  float64\n",
      " 7   C                                        23097 non-null  float64\n",
      " 8   D                                        23097 non-null  float64\n",
      " 9   E                                        23097 non-null  float64\n",
      " 10  F                                        23097 non-null  float64\n",
      " 11  Z                                        23097 non-null  float64\n",
      " 12  Number_of_prev_cond                      23097 non-null  float64\n",
      " 13  Survived_1_year                          23097 non-null  int64  \n",
      " 14  Treated_with_drugs_DX1                   23097 non-null  uint8  \n",
      " 15  Treated_with_drugs_DX1 DX2               23097 non-null  uint8  \n",
      " 16  Treated_with_drugs_DX1 DX2 DX3           23097 non-null  uint8  \n",
      " 17  Treated_with_drugs_DX1 DX2 DX3 DX4       23097 non-null  uint8  \n",
      " 18  Treated_with_drugs_DX1 DX2 DX3 DX4 DX5   23097 non-null  uint8  \n",
      " 19  Treated_with_drugs_DX1 DX2 DX3 DX5       23097 non-null  uint8  \n",
      " 20  Treated_with_drugs_DX1 DX2 DX4           23097 non-null  uint8  \n",
      " 21  Treated_with_drugs_DX1 DX2 DX4 DX5       23097 non-null  uint8  \n",
      " 22  Treated_with_drugs_DX1 DX2 DX5           23097 non-null  uint8  \n",
      " 23  Treated_with_drugs_DX1 DX3               23097 non-null  uint8  \n",
      " 24  Treated_with_drugs_DX1 DX3 DX4           23097 non-null  uint8  \n",
      " 25  Treated_with_drugs_DX1 DX3 DX4 DX5       23097 non-null  uint8  \n",
      " 26  Treated_with_drugs_DX1 DX3 DX5           23097 non-null  uint8  \n",
      " 27  Treated_with_drugs_DX1 DX4               23097 non-null  uint8  \n",
      " 28  Treated_with_drugs_DX1 DX4 DX5           23097 non-null  uint8  \n",
      " 29  Treated_with_drugs_DX1 DX5               23097 non-null  uint8  \n",
      " 30  Treated_with_drugs_DX2                   23097 non-null  uint8  \n",
      " 31  Treated_with_drugs_DX2 DX3               23097 non-null  uint8  \n",
      " 32  Treated_with_drugs_DX2 DX3 DX4           23097 non-null  uint8  \n",
      " 33  Treated_with_drugs_DX2 DX3 DX4 DX5       23097 non-null  uint8  \n",
      " 34  Treated_with_drugs_DX2 DX3 DX5           23097 non-null  uint8  \n",
      " 35  Treated_with_drugs_DX2 DX4               23097 non-null  uint8  \n",
      " 36  Treated_with_drugs_DX2 DX4 DX5           23097 non-null  uint8  \n",
      " 37  Treated_with_drugs_DX2 DX5               23097 non-null  uint8  \n",
      " 38  Treated_with_drugs_DX3                   23097 non-null  uint8  \n",
      " 39  Treated_with_drugs_DX3 DX4               23097 non-null  uint8  \n",
      " 40  Treated_with_drugs_DX3 DX4 DX5           23097 non-null  uint8  \n",
      " 41  Treated_with_drugs_DX3 DX5               23097 non-null  uint8  \n",
      " 42  Treated_with_drugs_DX4                   23097 non-null  uint8  \n",
      " 43  Treated_with_drugs_DX4 DX5               23097 non-null  uint8  \n",
      " 44  Treated_with_drugs_DX5                   23097 non-null  uint8  \n",
      " 45  Treated_with_drugs_DX6                   23097 non-null  uint8  \n",
      " 46  Patient_Smoker_Cannot say                23097 non-null  uint8  \n",
      " 47  Patient_Smoker_NO                        23097 non-null  uint8  \n",
      " 48  Patient_Smoker_YES                       23097 non-null  uint8  \n",
      " 49  Patient_Rural_Urban_RURAL                23097 non-null  uint8  \n",
      " 50  Patient_Rural_Urban_URBAN                23097 non-null  uint8  \n",
      " 51  Patient_mental_condition_Stable          23097 non-null  uint8  \n",
      "dtypes: float64(9), int64(5), uint8(38)\n",
      "memory usage: 3.3 MB\n"
     ]
    }
   ],
   "source": [
    "pharma_data.info()"
   ]
  },
  {
   "cell_type": "markdown",
   "metadata": {},
   "source": [
    "## Dropping columns that won't be required for modelling and setting my target variable as y"
   ]
  },
  {
   "cell_type": "code",
   "execution_count": 10,
   "metadata": {},
   "outputs": [],
   "source": [
    "\n",
    "x= pharma_data.drop(['ID_Patient_Care_Situation','Patient_ID','Survived_1_year'], axis = 1)\n",
    "y = pharma_data['Survived_1_year']"
   ]
  },
  {
   "cell_type": "markdown",
   "metadata": {},
   "source": [
    "## Splitting test and train data"
   ]
  },
  {
   "cell_type": "code",
   "execution_count": 11,
   "metadata": {},
   "outputs": [],
   "source": [
    "\n",
    "from sklearn.model_selection import train_test_split\n",
    "x_train, x_test, y_train, y_test = train_test_split(x, y, test_size=0.33, random_state=42)"
   ]
  },
  {
   "cell_type": "markdown",
   "metadata": {},
   "source": [
    "## Decision Tree "
   ]
  },
  {
   "cell_type": "code",
   "execution_count": null,
   "metadata": {},
   "outputs": [],
   "source": [
    "from sklearn.tree import DecisionTreeClassifier\n",
    "model = DecisionTreeClassifier()\n",
    "model.fit(x_train, y_train)"
   ]
  },
  {
   "cell_type": "code",
   "execution_count": 28,
   "metadata": {},
   "outputs": [
    {
     "name": "stdout",
     "output_type": "stream",
     "text": [
      "Training accuracy... 0.999547628279695\n",
      "Test accuracy 0.7625606716515807\n"
     ]
    }
   ],
   "source": [
    "\n",
    "from sklearn.metrics import accuracy_score\n",
    "print('Training accuracy...', accuracy_score(y_train, model.predict(x_train)))\n",
    "print('Test accuracy', accuracy_score(y_test, model.predict(x_test)))"
   ]
  },
  {
   "cell_type": "markdown",
   "metadata": {},
   "source": [
    "## Improving the decision tree model by optimizing the depth of the tree"
   ]
  },
  {
   "cell_type": "code",
   "execution_count": 29,
   "metadata": {},
   "outputs": [
    {
     "name": "stdout",
     "output_type": "stream",
     "text": [
      "train score... 0.7494506914824868\n",
      "test score... 0.7510166601075692\n"
     ]
    }
   ],
   "source": [
    "\n",
    "model_improved = DecisionTreeClassifier(max_depth = 3)\n",
    "model_improved.fit(x_train, y_train)\n",
    "print('train score...' , accuracy_score(y_train, model_improved.predict(x_train)))\n",
    "print('test score...', accuracy_score(y_test, model_improved.predict(x_test)))\n",
    "y_pred =model_improved.predict(x_test)"
   ]
  },
  {
   "cell_type": "code",
   "execution_count": 29,
   "metadata": {},
   "outputs": [
    {
     "name": "stdout",
     "output_type": "stream",
     "text": [
      "F1 Score:  0.8174297806848788\n"
     ]
    }
   ],
   "source": [
    "from sklearn.metrics import f1_score\n",
    "print(\"F1 Score: \",f1_score(y_test, y_pred))"
   ]
  },
  {
   "cell_type": "code",
   "execution_count": 21,
   "metadata": {},
   "outputs": [],
   "source": [
    "test_data = pd.read_csv('https://raw.githubusercontent.com/dphi-official/Datasets/master/pharma_data/Testing_set_begs.csv')"
   ]
  },
  {
   "cell_type": "code",
   "execution_count": 23,
   "metadata": {},
   "outputs": [],
   "source": [
    "for column in ['Treated_with_drugs', 'Patient_Smoker', 'Patient_Rural_Urban', 'Patient_mental_condition']:\n",
    "     test_data = pd.get_dummies(test_data, columns=[column])"
   ]
  },
  {
   "cell_type": "code",
   "execution_count": 32,
   "metadata": {},
   "outputs": [],
   "source": [
    "test_data['Patient_Smoker_Cannot say'] = 0"
   ]
  },
  {
   "cell_type": "code",
   "execution_count": 35,
   "metadata": {},
   "outputs": [],
   "source": [
    "test_data= test_data.drop(['ID_Patient_Care_Situation','Patient_ID'], axis = 1)"
   ]
  },
  {
   "cell_type": "code",
   "execution_count": 36,
   "metadata": {},
   "outputs": [
    {
     "name": "stdout",
     "output_type": "stream",
     "text": [
      "<class 'pandas.core.frame.DataFrame'>\n",
      "RangeIndex: 9303 entries, 0 to 9302\n",
      "Data columns (total 49 columns):\n",
      " #   Column                                   Non-Null Count  Dtype  \n",
      "---  ------                                   --------------  -----  \n",
      " 0   Diagnosed_Condition                      9303 non-null   int64  \n",
      " 1   Patient_Age                              9303 non-null   int64  \n",
      " 2   Patient_Body_Mass_Index                  9303 non-null   float64\n",
      " 3   A                                        9303 non-null   float64\n",
      " 4   B                                        9303 non-null   float64\n",
      " 5   C                                        9303 non-null   float64\n",
      " 6   D                                        9303 non-null   float64\n",
      " 7   E                                        9303 non-null   float64\n",
      " 8   F                                        9303 non-null   float64\n",
      " 9   Z                                        9303 non-null   float64\n",
      " 10  Number_of_prev_cond                      9303 non-null   float64\n",
      " 11  Treated_with_drugs_DX1                   9303 non-null   uint8  \n",
      " 12  Treated_with_drugs_DX1 DX2               9303 non-null   uint8  \n",
      " 13  Treated_with_drugs_DX1 DX2 DX3           9303 non-null   uint8  \n",
      " 14  Treated_with_drugs_DX1 DX2 DX3 DX4       9303 non-null   uint8  \n",
      " 15  Treated_with_drugs_DX1 DX2 DX3 DX4 DX5   9303 non-null   uint8  \n",
      " 16  Treated_with_drugs_DX1 DX2 DX3 DX5       9303 non-null   uint8  \n",
      " 17  Treated_with_drugs_DX1 DX2 DX4           9303 non-null   uint8  \n",
      " 18  Treated_with_drugs_DX1 DX2 DX4 DX5       9303 non-null   uint8  \n",
      " 19  Treated_with_drugs_DX1 DX2 DX5           9303 non-null   uint8  \n",
      " 20  Treated_with_drugs_DX1 DX3               9303 non-null   uint8  \n",
      " 21  Treated_with_drugs_DX1 DX3 DX4           9303 non-null   uint8  \n",
      " 22  Treated_with_drugs_DX1 DX3 DX4 DX5       9303 non-null   uint8  \n",
      " 23  Treated_with_drugs_DX1 DX3 DX5           9303 non-null   uint8  \n",
      " 24  Treated_with_drugs_DX1 DX4               9303 non-null   uint8  \n",
      " 25  Treated_with_drugs_DX1 DX4 DX5           9303 non-null   uint8  \n",
      " 26  Treated_with_drugs_DX1 DX5               9303 non-null   uint8  \n",
      " 27  Treated_with_drugs_DX2                   9303 non-null   uint8  \n",
      " 28  Treated_with_drugs_DX2 DX3               9303 non-null   uint8  \n",
      " 29  Treated_with_drugs_DX2 DX3 DX4           9303 non-null   uint8  \n",
      " 30  Treated_with_drugs_DX2 DX3 DX4 DX5       9303 non-null   uint8  \n",
      " 31  Treated_with_drugs_DX2 DX3 DX5           9303 non-null   uint8  \n",
      " 32  Treated_with_drugs_DX2 DX4               9303 non-null   uint8  \n",
      " 33  Treated_with_drugs_DX2 DX4 DX5           9303 non-null   uint8  \n",
      " 34  Treated_with_drugs_DX2 DX5               9303 non-null   uint8  \n",
      " 35  Treated_with_drugs_DX3                   9303 non-null   uint8  \n",
      " 36  Treated_with_drugs_DX3 DX4               9303 non-null   uint8  \n",
      " 37  Treated_with_drugs_DX3 DX4 DX5           9303 non-null   uint8  \n",
      " 38  Treated_with_drugs_DX3 DX5               9303 non-null   uint8  \n",
      " 39  Treated_with_drugs_DX4                   9303 non-null   uint8  \n",
      " 40  Treated_with_drugs_DX4 DX5               9303 non-null   uint8  \n",
      " 41  Treated_with_drugs_DX5                   9303 non-null   uint8  \n",
      " 42  Treated_with_drugs_DX6                   9303 non-null   uint8  \n",
      " 43  Patient_Smoker_NO                        9303 non-null   uint8  \n",
      " 44  Patient_Smoker_YES                       9303 non-null   uint8  \n",
      " 45  Patient_Rural_Urban_RURAL                9303 non-null   uint8  \n",
      " 46  Patient_Rural_Urban_URBAN                9303 non-null   uint8  \n",
      " 47  Patient_mental_condition_Stable          9303 non-null   uint8  \n",
      " 48  Patient_Smoker_Cannot say                9303 non-null   int64  \n",
      "dtypes: float64(9), int64(3), uint8(37)\n",
      "memory usage: 1.2 MB\n"
     ]
    }
   ],
   "source": [
    "test_data.info()"
   ]
  },
  {
   "cell_type": "code",
   "execution_count": 37,
   "metadata": {},
   "outputs": [],
   "source": [
    "y_pred_2 =model_improved.predict(test_data)"
   ]
  },
  {
   "cell_type": "code",
   "execution_count": 101,
   "metadata": {},
   "outputs": [],
   "source": [
    "res = pd.DataFrame(y_pred_2)\n",
    "res.index = test.index # its important for comparison\n",
    "res.columns = [\"prediction\"]\n",
    "res.to_csv(\"y_pred.csv\")"
   ]
  },
  {
   "cell_type": "markdown",
   "metadata": {},
   "source": [
    "## Logistic Regression"
   ]
  },
  {
   "cell_type": "code",
   "execution_count": 44,
   "metadata": {},
   "outputs": [
    {
     "name": "stderr",
     "output_type": "stream",
     "text": [
      "C:\\Users\\Administrator\\anaconda3\\lib\\site-packages\\sklearn\\linear_model\\_logistic.py:940: ConvergenceWarning: lbfgs failed to converge (status=1):\n",
      "STOP: TOTAL NO. of ITERATIONS REACHED LIMIT.\n",
      "\n",
      "Increase the number of iterations (max_iter) or scale the data as shown in:\n",
      "    https://scikit-learn.org/stable/modules/preprocessing.html\n",
      "Please also refer to the documentation for alternative solver options:\n",
      "    https://scikit-learn.org/stable/modules/linear_model.html#logistic-regression\n",
      "  extra_warning_msg=_LOGISTIC_SOLVER_CONVERGENCE_MSG)\n"
     ]
    }
   ],
   "source": [
    "from sklearn.linear_model import LogisticRegression\n",
    "logreg=LogisticRegression()\n",
    "logreg.fit(x_train,y_train)\n",
    "y_pred_log=logreg.predict(x_test)"
   ]
  },
  {
   "cell_type": "markdown",
   "metadata": {},
   "source": [
    "## Logistic Regression evaluation using F1 Score"
   ]
  },
  {
   "cell_type": "code",
   "execution_count": 45,
   "metadata": {},
   "outputs": [
    {
     "name": "stdout",
     "output_type": "stream",
     "text": [
      "F1 Score:  0.8008523827973654\n"
     ]
    }
   ],
   "source": [
    "from sklearn.metrics import f1_score\n",
    "print(\"F1 Score: \",f1_score(y_test, y_pred_log))"
   ]
  },
  {
   "cell_type": "markdown",
   "metadata": {},
   "source": [
    "## Random Forest Classifier"
   ]
  },
  {
   "cell_type": "code",
   "execution_count": 41,
   "metadata": {},
   "outputs": [],
   "source": [
    "from sklearn.ensemble import RandomForestClassifier\n",
    "rfc = RandomForestClassifier()"
   ]
  },
  {
   "cell_type": "markdown",
   "metadata": {},
   "source": [
    "## Random Forest evaluation using F1 score"
   ]
  },
  {
   "cell_type": "code",
   "execution_count": 42,
   "metadata": {},
   "outputs": [
    {
     "name": "stdout",
     "output_type": "stream",
     "text": [
      "F1 Score:  0.8560073372057474\n"
     ]
    }
   ],
   "source": [
    "\n",
    "rfc.fit(x_train, y_train)\n",
    "predictions = rfc.predict(x_test)\n",
    "print(\"F1 Score: \",f1_score(y_test,predictions ))"
   ]
  },
  {
   "cell_type": "markdown",
   "metadata": {},
   "source": [
    "#### from the evaluation metric results of the ML algorithms used,  Random forest classifier proved to be the algorithm with the highest F1 score of 85%  to predict patients likelihood of survival after one year of treatment "
   ]
  },
  {
   "cell_type": "markdown",
   "metadata": {},
   "source": [
    "## Using Random Forest model to predict test data and export a csv file with the results"
   ]
  },
  {
   "cell_type": "code",
   "execution_count": 43,
   "metadata": {},
   "outputs": [],
   "source": [
    "predictions =rfc.predict(test_data)"
   ]
  },
  {
   "cell_type": "code",
   "execution_count": 109,
   "metadata": {},
   "outputs": [],
   "source": [
    "res = pd.DataFrame(predictions)\n",
    "res.index = test.index # its important for comparison\n",
    "res.columns = [\"prediction\"]\n",
    "res.to_csv(\"y_pred.csv\")"
   ]
  },
  {
   "cell_type": "markdown",
   "metadata": {},
   "source": [
    "##### Project Overview \n",
    "A hospital in the province of Greenland has been trying to improve its care conditions by looking at historic survival of the patients. They tried looking at their data but could not identify the main factors leading to high survivals.Develop a model that will predict the chances of survival of a patient after 1 year of treatment (Survived_1_year)."
   ]
  },
  {
   "cell_type": "code",
   "execution_count": null,
   "metadata": {},
   "outputs": [],
   "source": []
  },
  {
   "cell_type": "raw",
   "metadata": {},
   "source": []
  }
 ],
 "metadata": {
  "kernelspec": {
   "display_name": "Python 3",
   "language": "python",
   "name": "python3"
  },
  "language_info": {
   "codemirror_mode": {
    "name": "ipython",
    "version": 3
   },
   "file_extension": ".py",
   "mimetype": "text/x-python",
   "name": "python",
   "nbconvert_exporter": "python",
   "pygments_lexer": "ipython3",
   "version": "3.7.6"
  }
 },
 "nbformat": 4,
 "nbformat_minor": 4
}
